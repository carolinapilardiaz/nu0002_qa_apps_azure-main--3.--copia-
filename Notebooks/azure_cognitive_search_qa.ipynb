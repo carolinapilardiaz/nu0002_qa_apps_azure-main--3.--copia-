{
 "cells": [
  {
   "cell_type": "code",
   "execution_count": 1,
   "id": "bcb2d924",
   "metadata": {},
   "outputs": [],
   "source": [
    "import os\n",
    "import openai\n",
    "\n",
    "from langchain.retrievers import AzureCognitiveSearchRetriever\n",
    "from langchain.agents import tool\n",
    "\n",
    "from langchain.embeddings import OpenAIEmbeddings\n",
    "from langchain.chat_models import AzureChatOpenAI\n",
    "from langchain.chains import RetrievalQA\n",
    "from langchain.chat_models import ChatOpenAI\n",
    "from langchain.schema import HumanMessage\n",
    "from langchain.prompts import PromptTemplate\n",
    "import getpass\n",
    "\n",
    "\n",
    "from langchain.llms import OpenAI"
   ]
  },
  {
   "cell_type": "code",
   "execution_count": 17,
   "id": "160869a6",
   "metadata": {},
   "outputs": [],
   "source": [
    "api_type = \"azure\"\n",
    "api_base_url = \"https://openaidemonubiral.openai.azure.com/\"\n",
    "api_version = \"2023-03-15-preview\"\n",
    "azure_api_key = \"ff5c606c134e4d1dae3426a412df834a\"\n",
    "\n",
    "openai.api_type = api_type\n",
    "openai.api_base = api_base_url\n",
    "openai.api_version = api_version\n",
    "openai.api_key = azure_api_key\n",
    "\n",
    "os.environ[\"OPENAI_API_BASE\"] = api_base_url\n",
    "os.environ[\"OPENAI_API_KEY\"] = azure_api_key"
   ]
  },
  {
   "cell_type": "code",
   "execution_count": 18,
   "id": "9a95f36d",
   "metadata": {},
   "outputs": [],
   "source": [
    "embeddings_azure = OpenAIEmbeddings(model=\"text-embedding-ada-002\", chunk_size=1)\n",
    "\n",
    "llm_azure_chatgpt = AzureChatOpenAI(\n",
    "    deployment_name=\"nubiral-lab-01\", \n",
    "    temperature=0, \n",
    "    openai_api_version=api_version)"
   ]
  },
  {
   "cell_type": "code",
   "execution_count": null,
   "id": "ca66486e",
   "metadata": {},
   "outputs": [],
   "source": []
  },
  {
   "cell_type": "code",
   "execution_count": 8,
   "id": "28730ae2",
   "metadata": {},
   "outputs": [],
   "source": [
    "os.environ[\"AZURE_COGNITIVE_SEARCH_SERVICE_NAME\"] = \"cognitive-searchdemo\"\n",
    "os.environ[\"AZURE_COGNITIVE_SEARCH_INDEX_NAME\"] = \"cosmosdb-index\"\n",
    "os.environ[\"AZURE_COGNITIVE_SEARCH_API_KEY\"] = \"Ndqr05h9fitPrfEh9GxNBb2vsvelw9oUgIew1VpUvYAzSeD2n9Zi\""
   ]
  },
  {
   "cell_type": "code",
   "execution_count": null,
   "id": "b7df101a",
   "metadata": {},
   "outputs": [],
   "source": []
  },
  {
   "cell_type": "code",
   "execution_count": 19,
   "id": "4224e2ce",
   "metadata": {},
   "outputs": [],
   "source": [
    "retriever_cognitive_search = AzureCognitiveSearchRetriever(content_key=\"description\")"
   ]
  },
  {
   "cell_type": "code",
   "execution_count": 20,
   "id": "af787182",
   "metadata": {
    "scrolled": true
   },
   "outputs": [
    {
     "data": {
      "text/plain": [
       "[Document(page_content=\"Walls can't contain you. Rivals can't hold you back. On the court, you're in control. Release your full force of nature in Predator Freak. Their supportive mid-cut design and grippy rubber outsole ensure these adidas soccer shoes keep you dominating on artificial turf. 3D-printed Demonscale elements spread further across their coated mesh upper to help you improve your mastery of the ball.\", metadata={'@search.score': 10.11738, 'name': 'Predator Freak.3 Turf Shoes', 'color': 'Black', 'breadcrumbs': 'Soccer/Shoes', 'rid': 'dENnWUFNZWxyNDYrQUFBQUFBQUFBQT090'}),\n",
       " Document(page_content='Every practice takes you closer to your goal. These adidas soccer socks are made with moisture-wicking yarn to help feet stay dry. A cushioned heel and toe keep you comfortable through drills and scrimmages, while arch and ankle compression provide extra support.', metadata={'@search.score': 6.831828, 'name': 'Team Speed Soccer OTC Socks', 'color': 'White', 'breadcrumbs': 'Training/Accessories', 'rid': 'dENnWUFNZWxyNDZPQVFBQUFBQUFBQT090'}),\n",
       " Document(page_content='Every practice takes you closer to your goal. These adidas soccer socks are made with moisture-wicking yarn to help feet stay dry. A cushioned heel and toe keep you comfortable through drills and scrimmages, while arch and ankle compression provide extra support.', metadata={'@search.score': 6.722987, 'name': 'Team Speed Soccer OTC Socks', 'color': 'White', 'breadcrumbs': 'Training/Accessories', 'rid': 'dENnWUFNZWxyNDZLQVFBQUFBQUFBQT090'}),\n",
       " Document(page_content='Every practice takes you closer to your goal. These adidas soccer socks are made with moisture-wicking yarn to help feet stay dry. A cushioned heel and toe keep you comfortable through drills and scrimmages, while arch and ankle compression provide extra support.', metadata={'@search.score': 6.370594, 'name': 'Team Speed Soccer OTC Socks', 'color': 'Green', 'breadcrumbs': 'Training/Accessories', 'rid': 'dENnWUFNZWxyNDZiQVFBQUFBQUFBQT090'}),\n",
       " Document(page_content='Some players talk a good game. But the best ones feel it. Get in touch with your senses and elevate your play in Copa Sense. These adidas soccer cleats feature soft leather for a smooth first touch. The seamless upper molds around the contours of your foot for a comfortable fit. The outsole delivers high traction on firm ground.', metadata={'@search.score': 6.157817, 'name': 'Copa Sense.3 Firm Ground Cleats', 'color': 'Black', 'breadcrumbs': 'Soccer/Shoes', 'rid': 'dENnWUFNZWxyNDdBQVFBQUFBQUFBQT090'}),\n",
       " Document(page_content=\"The only thing that makes defenders sweat more than seeing you on the pitch? Not seeing you at all. Pull on X Ghosted and discover next-level speed. The stretchy tongue on these adidas soccer cleats means you'll get into them without a glitch. Lightweight and laceless, the mesh upper hugs the foot so you're securely strapped in for every sprint. The low-cut silhouette with signature Clawcollar shape locks your foot in for match-long stability and support.\", metadata={'@search.score': 6.118564, 'name': 'X Ghosted.3 Laceless Firm Ground Cleats', 'color': 'Pink', 'breadcrumbs': 'Soccer/Shoes', 'rid': 'dENnWUFNZWxyNDRpQXdBQUFBQUFBQT090'}),\n",
       " Document(page_content='In the cage. On the court. When the walls close in, your senses take over. Let Copa Sense elevate your touch as you switch up your game. The stretchy collar on these adidas soccer shoes makes for easy entry and a secure fit. Once on, the anatomically designed upper keeps you firmly locked in. Soft and durable, the leather forefoot brings step-in comfort and a touch that buys you time on the busiest courts.', metadata={'@search.score': 5.9222875, 'name': 'Copa Sense.3 Turf Shoes', 'color': 'White', 'breadcrumbs': 'Men/Shoes', 'rid': 'dENnWUFNZWxyNDRjQUFBQUFBQUFBQT090'}),\n",
       " Document(page_content=\"Soccer support with frills. Hold your club colors high with this adidas Real Madrid Scarf. It has traditional fringe on either end and the club's name and badge front and center. The soft knit fabric ensures you keep reaching for it well beyond match day.\", metadata={'@search.score': 5.914603, 'name': 'Real Madrid Scarf', 'color': 'White', 'breadcrumbs': 'Soccer/Accessories', 'rid': 'dENnWUFNZWxyNDRCQVFBQUFBQUFBQT090'}),\n",
       " Document(page_content=\"Why do we all love soccer? Because out there on the pitch, we can be anything we want. Choose your adidas Gamemode and play the beautiful game your way. These cleats have a HybridTouch upper for a soft touch and a universal fit for added comfort. Underneath, a versatile outsole provides a platform for self-expression on firm ground and artificial grass. Up top, vibrant graphics borrow from the Uniforia ball used at Europe's showpiece summer event.\", metadata={'@search.score': 5.858289, 'name': 'Gamemode Firm Ground Cleats', 'color': 'Silver', 'breadcrumbs': 'Soccer/Shoes', 'rid': 'dENnWUFNZWxyNDRXQWdBQUFBQUFBQT090'}),\n",
       " Document(page_content=\"These adidas SAMBAROSE Shoes take the Samba's classic soccer look and raises it to new heights. A platform sole puts a trendy spin on this sporty silhouette. A tie-dyed upper gives them a colorful, eye-catching look.\\r\\n\\r\\nThis product is made with Primegreen, a series of high-performance recycled materials. 50% of the upper is recycled content. No virgin polyester.\", metadata={'@search.score': 5.6810074, 'name': 'SAMBAROSE Shoes', 'color': 'Pink', 'breadcrumbs': 'Women/Shoes', 'rid': 'dENnWUFNZWxyNDVrQUFBQUFBQUFBQT090'}),\n",
       " Document(page_content='Predator has mutated to give you freakish control. These limited-edition soccer cleats bring a classic comic book character prowling onto the pitch. Wolverine and Marvel X-Men graphics dominate the adidas Primeknit upper and insole. Extended Demonskin and a split outsole team up to help you overpower your rivals on firm ground.', metadata={'@search.score': 5.244335, 'name': 'Marvel Predator Freak.1 Firm Ground Cleats', 'color': 'Yellow', 'breadcrumbs': 'Soccer/Shoes', 'rid': 'dENnWUFNZWxyNDY2QVFBQUFBQUFBQT090'}),\n",
       " Document(page_content='Why do we all love soccer? Because out there on the field, we can be anything we want. Choose your adidas Gamemode and play the beautiful game your way. These cleats have a HybridTouch upper for a soft touch and a universal fit for added comfort. Underneath, a versatile outsole provides a platform for self-expression on firm ground and artificial grass.', metadata={'@search.score': 5.223093, 'name': 'Gamemode Firm Ground Cleats', 'color': 'White', 'breadcrumbs': 'Soccer/Shoes', 'rid': 'dENnWUFNZWxyNDQ3QWdBQUFBQUFBQT090'}),\n",
       " Document(page_content=\"Why do we all love soccer? Because out there on the pitch, we can be anything we want. Choose your adidas Gamemode and play the beautiful game your way. These cleats have a HybridTouch upper for a soft touch and a universal fit for added comfort. Underneath, a versatile outsole provides a platform for self-expression on firm ground and artificial grass. Up top, Mexico's colors and badge show you stand with your team.\", metadata={'@search.score': 5.0128536, 'name': 'Mexico Gamemode Firm Ground Cleats', 'color': 'White', 'breadcrumbs': 'Soccer/Shoes', 'rid': 'dENnWUFNZWxyNDRRQWdBQUFBQUFBQT090'}),\n",
       " Document(page_content=\"The only thing that makes defenders sweat more than seeing you on the pitch? Not seeing you at all. Pull on X Ghosted and discover next-level speed. The stretchy tongue on these adidas soccer cleats means you'll get into them in record time. Lightweight and semi-translucent, the foot-hugging Speedskin upper doesn't just look fast, it feels fast. The low-cut silhouette with signature Clawcollar shape locks your foot in for match-long stability and support.\", metadata={'@search.score': 5.0128536, 'name': 'X Ghosted.3 Firm Ground Cleats', 'color': 'Yellow', 'breadcrumbs': 'Soccer/Shoes', 'rid': 'dENnWUFNZWxyNDdTQWdBQUFBQUFBQT090'}),\n",
       " Document(page_content=\"These adidas SAMBAROSE Shoes take the Samba's classic soccer look and raises it to new heights. A platform sole puts a trendy spin on this sporty silhouette. A tie-dyed upper gives them a colorful, eye-catching look.\\r\\n\\r\\nThis product is made with Primegreen, a series of high-performance recycled materials. 50% of the upper is recycled content. No virgin polyester.\", metadata={'@search.score': 5.0010166, 'name': 'SAMBAROSE Shoes', 'color': 'Pink', 'breadcrumbs': 'Women/Shoes', 'rid': 'dENnWUFNZWxyNDVqQUFBQUFBQUFBQT090'}),\n",
       " Document(page_content='X has mutated to give you superhuman acceleration. These limited-edition adidas soccer cleats fire a classic comic book character onto the pitch. Cyclops and Marvel X-Men graphics light up the semi-transparent and foot-hugging Speedskin upper as well as the insole. The low-cut silhouette with signature Clawcollar shape locks your foot in for match-long stability and support. The stretchy tongue ensures you can get into them in a flash.', metadata={'@search.score': 4.97951, 'name': 'Marvel X Ghosted.3 Firm Ground Cleats', 'color': 'Blue', 'breadcrumbs': 'Soccer/Shoes', 'rid': 'dENnWUFNZWxyNDRWQUFBQUFBQUFBQT090'}),\n",
       " Document(page_content=\"The only thing that makes defenders sweat more than seeing you on the pitch? Not seeing you at all. Pull on X Ghosted and discover next-level speed. The stretchy tongue on these adidas soccer cleats means you'll get into them in record time. Lightweight and semi-translucent, the foot-hugging Speedskin upper doesn't just look fast, it feels fast. The low-cut silhouette with signature Clawcollar shape locks your foot in for match-long stability and support.\", metadata={'@search.score': 4.97951, 'name': 'X Ghosted.3 Firm Ground Cleats', 'color': 'Pink', 'breadcrumbs': 'Soccer/Shoes', 'rid': 'dENnWUFNZWxyNDdWQWdBQUFBQUFBQT090'}),\n",
       " Document(page_content=\"Walls can't contain you. Rivals can't hold you back. On the court, you're in control. Release your full force of nature in Predator Freak. These adidas indoor soccer shoes keep you stable with a supportive mid-cut design. The coated textile upper has a laceless forefoot and more extensive 3D-printed Demonscale elements to help you own the ball.\", metadata={'@search.score': 4.883915, 'name': 'Predator Freak.3 Indoor Shoes', 'color': 'Black', 'breadcrumbs': 'Men/Shoes', 'rid': 'dENnWUFNZWxyNDdiQWdBQUFBQUFBQT090'}),\n",
       " Document(page_content='Every practice takes you closer to your goal. These adidas soccer socks are made with moisture-wicking yarn to help feet stay dry. A cushioned heel and toe keep you comfortable through drills and scrimmages, while arch and ankle compression provide extra support.', metadata={'@search.score': 4.740316, 'name': 'Team Speed Soccer OTC Socks', 'color': 'Black', 'breadcrumbs': 'Training/Accessories', 'rid': 'dENnWUFNZWxyNDZHQVFBQUFBQUFBQT090'}),\n",
       " Document(page_content='Every practice takes you closer to your goal. These adidas soccer socks are made with moisture-wicking yarn to help feet stay dry. A cushioned heel and toe keep you comfortable through drills and scrimmages, while arch and ankle compression provide extra support.', metadata={'@search.score': 4.740316, 'name': 'Team Speed Soccer OTC Socks', 'color': 'White', 'breadcrumbs': 'Training/Accessories', 'rid': 'dENnWUFNZWxyNDZIQVFBQUFBQUFBQT090'}),\n",
       " Document(page_content='Every practice takes you closer to your goal. These adidas soccer socks are made with moisture-wicking yarn to help feet stay dry. A cushioned heel and toe keep you comfortable through drills and scrimmages, while arch and ankle compression provide extra support.', metadata={'@search.score': 4.740316, 'name': 'Team Speed Soccer OTC Socks', 'color': 'White', 'breadcrumbs': 'Training/Accessories', 'rid': 'dENnWUFNZWxyNDZNQVFBQUFBQUFBQT090'}),\n",
       " Document(page_content=\"If your bag can survive a soccer locker room, it will make it through anything. This rugged duffel is made from recycled materials, part of adidas' commitment to help end plastic waste. The studded base adds durability. A large U-shaped opening lets you easily get to your gear.\\r\\n\\r\\nThis product is made with Primegreen, a series of high-performance recycled materials.\", metadata={'@search.score': 4.6254625, 'name': 'Tiro Primegreen Bottom Compartment Duffel Bag Medium', 'color': 'Blue', 'breadcrumbs': 'Soccer/Accessories', 'rid': 'dENnWUFNZWxyNDVUQWdBQUFBQUFBQT090'}),\n",
       " Document(page_content=\"You don't have to step out on the pitch to rock the clean, classic look of adidas Samba shoes. First designed as a grippy, cold-weather soccer shoe, today's Samba is just as much of an icon in the city as it was on the field back when. Throwback colors and lettering let you honor the original version every time you lace up.\", metadata={'@search.score': 4.6184697, 'name': 'Samba OG Shoes', 'color': 'White', 'breadcrumbs': 'Originals/Shoes', 'rid': 'dENnWUFNZWxyNDc5QUFBQUFBQUFBQT090'}),\n",
       " Document(page_content=\"Walls can't contain you. Rivals can't hold you back. On the court, you're in control. Release your full force of nature in Predator Freak. These juniors' adidas turf soccer shoes dial up the stability with a supportive mid-cut design. 3D-printed Demonscale elements spread further across the synthetic upper to help you dominate the ball.\", metadata={'@search.score': 4.542937, 'name': 'Predator Freak.3 Turf Shoes', 'color': 'Black', 'breadcrumbs': 'Kids/Shoes', 'rid': 'dENnWUFNZWxyNDdGQUFBQUFBQUFBQT090'}),\n",
       " Document(page_content=\"Clean and crisp, this adidas Mexico Away Jersey for juniors displays a design that began life in an artist's studio. Soft, quick-drying fabric keeps you comfortable. Standing out on the chest, a team badge lets fans show pride in their soccer team.\", metadata={'@search.score': 3.6985526, 'name': 'Mexico Away Jersey', 'color': 'White', 'breadcrumbs': 'Kids/Clothing', 'rid': 'dENnWUFNZWxyNDREQUFBQUFBQUFBQT090'}),\n",
       " Document(page_content=\"Some players talk a good game. But the best ones feel it. Get in touch with your senses and elevate your play in Copa Sense. These juniors' adidas soccer cleats feature a synthetic upper for a smooth first touch. The laceless construction molds around the contours of your foot for a comfortable fit. The outsole delivers high traction on firm ground.\", metadata={'@search.score': 3.6317494, 'name': 'Copa Sense.3 Laceless Firm Ground Cleats', 'color': 'White', 'breadcrumbs': 'Kids/Shoes', 'rid': 'dENnWUFNZWxyNDVDQXdBQUFBQUFBQT090'}),\n",
       " Document(page_content='Lighten up your step with these adidas Terrex hiking shoes. These adidas hiking shoes blur the line between comfortable running shoes and durable hiking shoes. A foot-hugging mesh upper adds durable overlays to shed mud and resist rocks. Lightweight EVA cushioning cradles the foot so you can walk all day. Their lugged tread holds firm on gravel roads and dirt paths.', metadata={'@search.score': 3.4171896, 'name': 'Terrex Trailmaker Primegreen Hiking Shoes', 'color': 'Beige', 'breadcrumbs': 'Men/Shoes', 'rid': 'dENnWUFNZWxyNDZ5QWdBQUFBQUFBQT090'}),\n",
       " Document(page_content=\"How to catch attention? A sure-fire way to do that is to draw the light to your shoes. The smooth iridescent upper on these adidas Superstar Shoes flashes a luxurious sheen that can't be denied. Plus, it emphasizes the signature rubber shell toe and serrated 3-Stripes, contrasting them with the holographic design.\", metadata={'@search.score': 3.2916365, 'name': 'Superstar Shoes', 'color': 'White', 'breadcrumbs': 'Women/Shoes', 'rid': 'dENnWUFNZWxyNDZRQVFBQUFBQUFBQT090'}),\n",
       " Document(page_content=\"You stand with the club in the Bernabéu and around town afterwards. This juniors' adidas Real Madrid soccer tee lets the world know who you shout for. Its cotton build and crewneck gives it a classic, comfortable feel.\\r\\n\\r\\nBy buying cotton products from us, you're supporting more sustainable cotton farming.\", metadata={'@search.score': 3.2760446, 'name': 'Real Madrid Tee', 'color': 'Blue', 'breadcrumbs': 'Kids/Clothing', 'rid': 'dENnWUFNZWxyNDc2QWdBQUFBQUFBQT090'}),\n",
       " Document(page_content=\"On-pitch style with off-grid vibes. These adidas soccer cargo pants take the classic tapered Tiro silhouette and add a pair of cargo-style pockets on the sides. Whatever adventures your beautiful game takes you on, moisture-wicking AEROREADY will ensure you feel at home. They're also made using recycled materials. It's not the solution, but at least it's a start.\", metadata={'@search.score': 3.2760446, 'name': 'Tiro Cargo Pants', 'color': 'Burgundy', 'breadcrumbs': 'Women/Clothing', 'rid': 'dENnWUFNZWxyNDQxQXdBQUFBQUFBQT090'}),\n",
       " Document(page_content=\"You can't always be a force of nature in soccer training. So when the intensity drops and the winds pick up, this juniors' adidas Tiro 21 Windbreaker has you covered. Moisture-absorbing AEROREADY and a mesh lining keep you dry. The streamlined silhouette ensures nothing gets in the way of your ball skills on the touchline.\\r\\n\\r\\nThis product is made with recycled content as part of our ambition to end plastic waste.\", metadata={'@search.score': 3.2648413, 'name': 'Tiro 21 Windbreaker', 'color': 'Black', 'breadcrumbs': 'Kids/Clothing', 'rid': 'dENnWUFNZWxyNDRJQUFBQUFBQUFBQT090'}),\n",
       " Document(page_content=\"How to catch attention? A sure-fire way to do that is to draw the light to your shoes. The smooth iridescent upper on these adidas Superstar Shoes flashes a luxurious sheen that can't be denied. Plus, it emphasizes the signature rubber shell toe and serrated 3-Stripes, contrasting them with the holographic design.\", metadata={'@search.score': 3.2122746, 'name': 'Superstar Shoes', 'color': 'White', 'breadcrumbs': 'Women/Shoes', 'rid': 'dENnWUFNZWxyNDZSQVFBQUFBQUFBQT090'}),\n",
       " Document(page_content=\"Kids seem to have more energy than they know what to do with. From the moment they wake up, they're on the move. Send your young athlete out in the running-inspired foot support of these adidas Puremotion Shoes. Lightweight and breathable with classic style, these shoes keep kids laced up in comfort and protection.\", metadata={'@search.score': 3.1553984, 'name': 'Puremotion Shoes', 'color': 'Black', 'breadcrumbs': 'Kids/Shoes', 'rid': 'dENnWUFNZWxyNDdYQVFBQUFBQUFBQT090'}),\n",
       " Document(page_content=\"Celebrate two decades of star-studded soccer with this adidas Finale 21 Mini Ball. It's decorated with panel designs from every UCL Finale ball since it made its debut in Europe's top tournament. The seamless laminated surface and foam core mean you can show off your sparkling skills without stopping to pump it up.\", metadata={'@search.score': 3.1032767, 'name': 'Finale 21 20th Anniversary UCL Mini Ball', 'color': 'White', 'breadcrumbs': 'Men/Accessories', 'rid': 'dENnWUFNZWxyNDVlQUFBQUFBQUFBQT090'}),\n",
       " Document(page_content=\"Calling all explorers. Go anywhere and try everything in these juniors' adidas shoes. Clean style keeps your look legit. Hits of holographic accents level up the space-inspired look. Sorry, no jet pack included.\", metadata={'@search.score': 3.0911238, 'name': 'Multix Shoes', 'color': 'Pink', 'breadcrumbs': 'Kids/Shoes', 'rid': 'dENnWUFNZWxyNDdDQVFBQUFBQUFBQT090'}),\n",
       " Document(page_content=\"The style is in the details of the Daily 3.0 Shoes. Stitched-down 3-Stripes along the midfoot give an elegant nod to adidas heritage, and the rubber outsole brings a vulcanized look, playing up the retro skate shoe vibe. As versatile as they are comfortable, these kids' shoes beg to be worn every day, every way.\", metadata={'@search.score': 3.0364406, 'name': 'Daily 3.0 Shoes', 'color': 'Black', 'breadcrumbs': 'Kids/Shoes', 'rid': 'dENnWUFNZWxyNDVMQXdBQUFBQUFBQT090'}),\n",
       " Document(page_content=\"Check your goals off your list one by one. These adidas running shoes are made for chasing down PRs one run at a time. Responsive Boost in the forefoot and heel combines with springy Bounce for a balanced and energized ride. It's time to exceed your own expectations.\", metadata={'@search.score': 2.9948967, 'name': 'Supernova Shoes', 'color': 'Black', 'breadcrumbs': 'Women/Shoes', 'rid': 'dENnWUFNZWxyNDR5QVFBQUFBQUFBQT090'}),\n",
       " Document(page_content=\"Imagine if your feet designed your running shoes. They'd want something that worked with their natural movement, not against it. They would celebrate their own shape in comfort, all day. Reward them (finally!) for all their hard work with adidas Futurenatural. The adidas Primeknit upper is flexible yet supportive. It rides on a cushioned, wrapped heel, adding points for stability.\", metadata={'@search.score': 2.9948967, 'name': 'Futurenatural Shoes', 'color': 'White', 'breadcrumbs': 'Women/Shoes', 'rid': 'dENnWUFNZWxyNDZ6QVFBQUFBQUFBQT090'}),\n",
       " Document(page_content=\"For quick evening miles and short loops outside the city, the X9000L3 keeps you feeling good. These adidas running shoes ride on a Jetboost midsole that provides the incredible energy return of adidas Boost. The design puts a stylish face on performance-ready tech, so you wouldn't feel out of place stopping for a coffee after your morning run group.\", metadata={'@search.score': 2.9948967, 'name': 'X9000L3 Shoes', 'color': 'White', 'breadcrumbs': 'Men/Shoes', 'rid': 'dENnWUFNZWxyNDZzQWdBQUFBQUFBQT090'}),\n",
       " Document(page_content='From low key to dressy, these versatile adidas shoes easily pair with a variety of looks. The plush feel keeps you comfortable on casual strolls through the park and long afternoons on your feet. The retro design has suede overlays for a sharp finish.', metadata={'@search.score': 2.9948967, 'name': 'Retrorun Shoes', 'color': 'White', 'breadcrumbs': 'Women/Shoes', 'rid': 'dENnWUFNZWxyNDRiQXdBQUFBQUFBQT090'}),\n",
       " Document(page_content=\"Same look. Same vibe. Different materials. The adidas Superstar Shoes have been in a continuous state of evolution since they debuted on the hardwood in the '70s. So it makes sense that as the world's needs change, so does the icon's intention. These shoes alone will not save the planet, and the side of the shoe will tell you exactly that. But they are made with recycled materials, natural and renewable rubber and a synthetic leather upper. And that's a good start.\\r\\n\\r\\nThis product is made with Primegreen, a series of high-performance recycled materials. 70% of upper is recycled content. No virgin polyester.\", metadata={'@search.score': 2.9584527, 'name': 'Superstar Shoes', 'color': 'White', 'breadcrumbs': 'Originals/Shoes', 'rid': 'dENnWUFNZWxyNDd1QVFBQUFBQUFBQT090'}),\n",
       " Document(page_content=\"Feel the Force every time you lace up in these juniors' adidas Superstar shoes. A basketball icon with over 50 years of history, these classic shoes have never shied away from breaking rules and pushing boundaries. Made in collaboration with Star Wars™, this version pays tribute to that rebellious attitude with playful graphics depicting Star Wars characters trying out new hobbies. After all, the Force should always we used for good.\", metadata={'@search.score': 2.8906622, 'name': 'Superstar Star Wars Shoes', 'color': 'White', 'breadcrumbs': 'Kids/Shoes', 'rid': 'dENnWUFNZWxyNDdLQUFBQUFBQUFBQT090'}),\n",
       " Document(page_content='Take off. Touch down. Repeat. The process is simple, but not always easy. These adidas running shoes keep you comfortable from your first mile to your first race. The plus in the name refers to the extra Boost in the hybrid midsole, which gives this version of the Supernova more energy return. The engineered mesh upper provides support and ventilation where you need it most.', metadata={'@search.score': 2.8807213, 'name': 'Supernova+ Shoes', 'color': 'White', 'breadcrumbs': 'Men/Shoes', 'rid': 'dENnWUFNZWxyNDY5QUFBQUFBQUFBQT090'}),\n",
       " Document(page_content='A few miles can be enough to reset your mind. These adidas running shoes keep you feeling good on short- to mid-distance runs. They ride on a full-length Boost midsole, which returns energy with every stride. The design draws inspiration from the virtual realm, with shocks of color and semi-translucent details that are reminiscent of a glowing screen. A glitched pattern on the outsole offers grippy traction on city streets.', metadata={'@search.score': 2.8807213, 'name': 'X9000L4 Shoes', 'color': 'Black', 'breadcrumbs': 'Men/Shoes', 'rid': 'dENnWUFNZWxyNDdTQUFBQUFBQUFBQT090'}),\n",
       " Document(page_content='A few miles can be enough to reset your mind. These adidas running shoes keep you feeling good on short- to mid-distance runs. They ride on a full-length Boost midsole, which returns energy with every stride. The design draws inspiration from the virtual realm, with shocks of color and semi-translucent details that are reminiscent of a glowing screen. A glitched pattern on the outsole offers grippy traction on city streets.', metadata={'@search.score': 2.8807213, 'name': 'X9000L4 Shoes', 'color': 'Black', 'breadcrumbs': 'Women/Shoes', 'rid': 'dENnWUFNZWxyNDY0QVFBQUFBQUFBQT090'}),\n",
       " Document(page_content=\"The era of aerobics in colorful leotards may be behind us, or maybe it's coming back. So cue up your favorite playlist and find your groove in these '80s-inspired adidas shoes. Rubber grips to city pavement as you stroll from point A to B. A crisp white upper looks as retro as ever.\\r\\n\\r\\nThis product is made with Primegreen, a series of high-performance recycled materials. 50% of the upper is recycled content. No virgin polyester. It is also made with vegan alternatives to animal-derived ingredients or materials. This pair of shoes features an algae-based EVA foam that helps clean at least 30 liters of polluted lake water.\", metadata={'@search.score': 2.8759227, 'name': 'Continental 80 Vegan Shoes', 'color': 'White', 'breadcrumbs': 'Women/Shoes', 'rid': 'dENnWUFNZWxyNDZuQWdBQUFBQUFBQT090'}),\n",
       " Document(page_content=\"It's been three decades since adidas Equipment style made its indelible mark on soccer culture. To celebrate its larger-than-life look, these Tiro pants go all out with bold blocks of color down the sides and a two-tone adidas Badge of Sport on the hip. AEROREADY absorbs moisture, and a classic Tiro tapered fit keeps you streamlined in case you need to show off your fancy footwork.\", metadata={'@search.score': 2.8626723, 'name': 'adidas Equipment Tiro Track Pants', 'color': 'Black', 'breadcrumbs': 'Men/Clothing', 'rid': 'dENnWUFNZWxyNDZ5QUFBQUFBQUFBQT090'}),\n",
       " Document(page_content=\"A modern update to '70s style. These court-inspired shoes have a smooth leather-like upper with contrast 3-Stripes. A lightweight sockliner provides comfort as they take on their day.\", metadata={'@search.score': 2.8350494, 'name': 'Grand Court Shoes', 'color': 'Grey', 'breadcrumbs': 'Kids/Shoes', 'rid': 'dENnWUFNZWxyNDRMQVFBQUFBQUFBQT090'}),\n",
       " Document(page_content=\"What do skinny jeans and flowy skirts have in common? Both look fantastic with a trendy platform like these adidas Nizza shoes. Step up, step out and give every outfit a little lift. Even if you're just knocking around town.\", metadata={'@search.score': 2.8350494, 'name': 'Nizza Platform Shoes', 'color': 'Multi', 'breadcrumbs': 'Women/Shoes', 'rid': 'dENnWUFNZWxyNDZ2QVFBQUFBQUFBQT090'}),\n",
       " Document(page_content=\"Worthy of the ZX name, these juniors' adidas shoes put innovation on display. Inspired by cutting-edge ZX styles from the archive, this pair shows off a soft mesh upper mixed with synthetic suede. For a hit of modern tech, Boost and EVA combine to create a cushioned midsole that's ready to take on the future, one comfy step at a time.\", metadata={'@search.score': 2.8206668, 'name': 'ZX 1K Boost Shoes', 'color': 'White', 'breadcrumbs': 'Kids/Shoes', 'rid': 'dENnWUFNZWxyNDVFQUFBQUFBQUFBQT090'})]"
      ]
     },
     "execution_count": 20,
     "metadata": {},
     "output_type": "execute_result"
    }
   ],
   "source": [
    "retriever_cognitive_search.get_relevant_documents(\"soccer shoes\")"
   ]
  },
  {
   "cell_type": "code",
   "execution_count": null,
   "id": "484fc4a6",
   "metadata": {},
   "outputs": [],
   "source": []
  },
  {
   "cell_type": "code",
   "execution_count": 3,
   "id": "1853ae4a",
   "metadata": {},
   "outputs": [],
   "source": [
    "from langchain.schema import BaseRetriever, Document\n",
    "from typing import List\n",
    "\n",
    "\n",
    "class CustomRetrieverAdidasData(BaseRetriever):\n",
    "    \n",
    "    def __init__(self, retriever_cognitive_search),k=10):\n",
    "        \n",
    "        self.retriever_cognitive_search = retriever_cognitive_search\n",
    "        self.k = k\n",
    "        \n",
    "    def get_relevant_documents(self, query: str) -> List[Document]:\n",
    "        \n",
    "        documents =  self.retriever_cognitive_search.get_relevant_documents(query)\n",
    "        \n",
    "        if len(documents) > self.k:\n",
    "            documents = documents[:self.k]\n",
    "        \n",
    "        for document in documents:\n",
    "            \n",
    "            document.page_content = self.add_sources_to_document(document)\n",
    "        \n",
    "        return documents\n",
    "    \n",
    "    async def aget_relevant_documents(self, query: str) -> List[Document]:\n",
    "        raise NotImplementedError\n",
    "        \n",
    "    def add_sources_to_document(self, input_document):\n",
    "        \n",
    "        page_content_with_sources = f\"Name: {input_document.metadata['name']}\\nColor: {input_document.metadata['color']}\\nCategories: {input_document.metadata['breadcrumbs']}\\nDescription: {input_document.page_content}\"\n",
    "        \n",
    "        return page_content_with_sources"
   ]
  },
  {
   "cell_type": "code",
   "execution_count": 4,
   "id": "66f447b2",
   "metadata": {},
   "outputs": [
    {
     "ename": "NameError",
     "evalue": "name 'retriever_cognitive_search' is not defined",
     "output_type": "error",
     "traceback": [
      "\u001b[0;31m---------------------------------------------------------------------------\u001b[0m",
      "\u001b[0;31mNameError\u001b[0m                                 Traceback (most recent call last)",
      "\u001b[1;32m/home/carolina/Descargas/nu0002_qa_apps_azure-main (copia)/Notebooks/azure_cognitive_search_qa.ipynb Cell 11\u001b[0m line \u001b[0;36m1\n\u001b[0;32m----> <a href='vscode-notebook-cell:/home/carolina/Descargas/nu0002_qa_apps_azure-main%20%28copia%29/Notebooks/azure_cognitive_search_qa.ipynb#X13sZmlsZQ%3D%3D?line=0'>1</a>\u001b[0m custom_retriever \u001b[39m=\u001b[39m CustomRetrieverAdidasData(retriever_cognitive_search, \u001b[39m10\u001b[39m)\n",
      "\u001b[0;31mNameError\u001b[0m: name 'retriever_cognitive_search' is not defined"
     ]
    }
   ],
   "source": [
    "custom_retriever = CustomRetrieverAdidasData(retriever_cognitive_search, 10)"
   ]
  },
  {
   "cell_type": "code",
   "execution_count": 57,
   "id": "4c07f24b",
   "metadata": {},
   "outputs": [
    {
     "data": {
      "text/plain": [
       "[Document(page_content=\"Name: Predator Freak.3 Turf Shoes\\nColor: Black\\nCategories: Soccer/Shoes\\nDescription: Walls can't contain you. Rivals can't hold you back. On the court, you're in control. Release your full force of nature in Predator Freak. Their supportive mid-cut design and grippy rubber outsole ensure these adidas soccer shoes keep you dominating on artificial turf. 3D-printed Demonscale elements spread further across their coated mesh upper to help you improve your mastery of the ball.\", metadata={'@search.score': 10.11738, 'name': 'Predator Freak.3 Turf Shoes', 'color': 'Black', 'breadcrumbs': 'Soccer/Shoes', 'rid': 'dENnWUFNZWxyNDYrQUFBQUFBQUFBQT090'}),\n",
       " Document(page_content='Name: Team Speed Soccer OTC Socks\\nColor: White\\nCategories: Training/Accessories\\nDescription: Every practice takes you closer to your goal. These adidas soccer socks are made with moisture-wicking yarn to help feet stay dry. A cushioned heel and toe keep you comfortable through drills and scrimmages, while arch and ankle compression provide extra support.', metadata={'@search.score': 6.831828, 'name': 'Team Speed Soccer OTC Socks', 'color': 'White', 'breadcrumbs': 'Training/Accessories', 'rid': 'dENnWUFNZWxyNDZPQVFBQUFBQUFBQT090'}),\n",
       " Document(page_content='Name: Team Speed Soccer OTC Socks\\nColor: White\\nCategories: Training/Accessories\\nDescription: Every practice takes you closer to your goal. These adidas soccer socks are made with moisture-wicking yarn to help feet stay dry. A cushioned heel and toe keep you comfortable through drills and scrimmages, while arch and ankle compression provide extra support.', metadata={'@search.score': 6.722987, 'name': 'Team Speed Soccer OTC Socks', 'color': 'White', 'breadcrumbs': 'Training/Accessories', 'rid': 'dENnWUFNZWxyNDZLQVFBQUFBQUFBQT090'}),\n",
       " Document(page_content='Name: Team Speed Soccer OTC Socks\\nColor: Green\\nCategories: Training/Accessories\\nDescription: Every practice takes you closer to your goal. These adidas soccer socks are made with moisture-wicking yarn to help feet stay dry. A cushioned heel and toe keep you comfortable through drills and scrimmages, while arch and ankle compression provide extra support.', metadata={'@search.score': 6.370594, 'name': 'Team Speed Soccer OTC Socks', 'color': 'Green', 'breadcrumbs': 'Training/Accessories', 'rid': 'dENnWUFNZWxyNDZiQVFBQUFBQUFBQT090'}),\n",
       " Document(page_content='Name: Copa Sense.3 Firm Ground Cleats\\nColor: Black\\nCategories: Soccer/Shoes\\nDescription: Some players talk a good game. But the best ones feel it. Get in touch with your senses and elevate your play in Copa Sense. These adidas soccer cleats feature soft leather for a smooth first touch. The seamless upper molds around the contours of your foot for a comfortable fit. The outsole delivers high traction on firm ground.', metadata={'@search.score': 6.157817, 'name': 'Copa Sense.3 Firm Ground Cleats', 'color': 'Black', 'breadcrumbs': 'Soccer/Shoes', 'rid': 'dENnWUFNZWxyNDdBQVFBQUFBQUFBQT090'}),\n",
       " Document(page_content=\"Name: X Ghosted.3 Laceless Firm Ground Cleats\\nColor: Pink\\nCategories: Soccer/Shoes\\nDescription: The only thing that makes defenders sweat more than seeing you on the pitch? Not seeing you at all. Pull on X Ghosted and discover next-level speed. The stretchy tongue on these adidas soccer cleats means you'll get into them without a glitch. Lightweight and laceless, the mesh upper hugs the foot so you're securely strapped in for every sprint. The low-cut silhouette with signature Clawcollar shape locks your foot in for match-long stability and support.\", metadata={'@search.score': 6.118564, 'name': 'X Ghosted.3 Laceless Firm Ground Cleats', 'color': 'Pink', 'breadcrumbs': 'Soccer/Shoes', 'rid': 'dENnWUFNZWxyNDRpQXdBQUFBQUFBQT090'}),\n",
       " Document(page_content='Name: Copa Sense.3 Turf Shoes\\nColor: White\\nCategories: Men/Shoes\\nDescription: In the cage. On the court. When the walls close in, your senses take over. Let Copa Sense elevate your touch as you switch up your game. The stretchy collar on these adidas soccer shoes makes for easy entry and a secure fit. Once on, the anatomically designed upper keeps you firmly locked in. Soft and durable, the leather forefoot brings step-in comfort and a touch that buys you time on the busiest courts.', metadata={'@search.score': 5.9222875, 'name': 'Copa Sense.3 Turf Shoes', 'color': 'White', 'breadcrumbs': 'Men/Shoes', 'rid': 'dENnWUFNZWxyNDRjQUFBQUFBQUFBQT090'}),\n",
       " Document(page_content=\"Name: Real Madrid Scarf\\nColor: White\\nCategories: Soccer/Accessories\\nDescription: Soccer support with frills. Hold your club colors high with this adidas Real Madrid Scarf. It has traditional fringe on either end and the club's name and badge front and center. The soft knit fabric ensures you keep reaching for it well beyond match day.\", metadata={'@search.score': 5.914603, 'name': 'Real Madrid Scarf', 'color': 'White', 'breadcrumbs': 'Soccer/Accessories', 'rid': 'dENnWUFNZWxyNDRCQVFBQUFBQUFBQT090'}),\n",
       " Document(page_content=\"Name: Gamemode Firm Ground Cleats\\nColor: Silver\\nCategories: Soccer/Shoes\\nDescription: Why do we all love soccer? Because out there on the pitch, we can be anything we want. Choose your adidas Gamemode and play the beautiful game your way. These cleats have a HybridTouch upper for a soft touch and a universal fit for added comfort. Underneath, a versatile outsole provides a platform for self-expression on firm ground and artificial grass. Up top, vibrant graphics borrow from the Uniforia ball used at Europe's showpiece summer event.\", metadata={'@search.score': 5.858289, 'name': 'Gamemode Firm Ground Cleats', 'color': 'Silver', 'breadcrumbs': 'Soccer/Shoes', 'rid': 'dENnWUFNZWxyNDRXQWdBQUFBQUFBQT090'}),\n",
       " Document(page_content=\"Name: SAMBAROSE Shoes\\nColor: Pink\\nCategories: Women/Shoes\\nDescription: These adidas SAMBAROSE Shoes take the Samba's classic soccer look and raises it to new heights. A platform sole puts a trendy spin on this sporty silhouette. A tie-dyed upper gives them a colorful, eye-catching look.\\r\\n\\r\\nThis product is made with Primegreen, a series of high-performance recycled materials. 50% of the upper is recycled content. No virgin polyester.\", metadata={'@search.score': 5.6810074, 'name': 'SAMBAROSE Shoes', 'color': 'Pink', 'breadcrumbs': 'Women/Shoes', 'rid': 'dENnWUFNZWxyNDVrQUFBQUFBQUFBQT090'})]"
      ]
     },
     "execution_count": 57,
     "metadata": {},
     "output_type": "execute_result"
    }
   ],
   "source": [
    "custom_retriever.get_relevant_documents(\"soccer shoes\")"
   ]
  },
  {
   "cell_type": "code",
   "execution_count": null,
   "id": "febeb50f",
   "metadata": {},
   "outputs": [],
   "source": []
  },
  {
   "cell_type": "code",
   "execution_count": 84,
   "id": "0afd613f",
   "metadata": {},
   "outputs": [],
   "source": [
    "prompt_template = \"\"\"Use the following pieces of context to answer the question at the end. \n",
    "You are a clothing recommendation system, given the question given by the user, you must recommend the products that best meet their requirements, in addition to that, try to provide reasons why the user should buy the items that you recommend.\n",
    "You can only recommend the products that are provided below, if none of the products meet the customer's requirements, kindly indicate that you do not have something that meets their requirements. Don't try to make up an answer.\n",
    "\n",
    "Products:\n",
    "\n",
    "{context}\n",
    "\n",
    "Question: {question}\n",
    "Answer in Spanish:\"\"\"\n",
    "\n",
    "PROMPT = PromptTemplate(\n",
    "    template=prompt_template, input_variables=[\"context\", \"question\"]\n",
    ")"
   ]
  },
  {
   "cell_type": "code",
   "execution_count": 85,
   "id": "6bb26a46",
   "metadata": {},
   "outputs": [],
   "source": [
    "chain_type = \"stuff\"\n",
    "chain_type_kwargs = {\"prompt\": PROMPT}\n",
    "\n",
    "qa = RetrievalQA.from_chain_type(llm=llm_azure_chatgpt, chain_type=chain_type, retriever=custom_retriever, return_source_documents=True, chain_type_kwargs=chain_type_kwargs)"
   ]
  },
  {
   "cell_type": "code",
   "execution_count": 86,
   "id": "7bb5a640",
   "metadata": {},
   "outputs": [],
   "source": [
    "query = \"puedes recomendarme unos tenis para el verano color negro?\"\n",
    "result = qa({\"query\": query})"
   ]
  },
  {
   "cell_type": "code",
   "execution_count": 87,
   "id": "7f6f861b",
   "metadata": {},
   "outputs": [
    {
     "data": {
      "text/plain": [
       "'Sí, te recomiendo los X9000L4 Shoes en color negro. Son ideales para correr distancias cortas a medias y tienen una suela de Boost que devuelve energía en cada paso. Además, su diseño inspirado en el mundo virtual con detalles semi-translúcidos y un patrón de fallas en la suela ofrece una tracción segura en las calles de la ciudad.'"
      ]
     },
     "execution_count": 87,
     "metadata": {},
     "output_type": "execute_result"
    }
   ],
   "source": [
    "result['result']"
   ]
  },
  {
   "cell_type": "code",
   "execution_count": 88,
   "id": "08345245",
   "metadata": {},
   "outputs": [
    {
     "data": {
      "text/plain": [
       "[Document(page_content='Name: adidas Adicolor Trefoil Hoodie\\nColor: Pink\\nCategories: Women/Clothing\\nDescription: Which color tells your story best? Rooted in our heritage of sport, Adicolor is iconic adidas style in a spectrum of shades. This hoodie puts the spotlight on the Trefoil logo. French terry fabric is everyday-level cozy.', metadata={'@search.score': 4.453742, 'name': 'adidas Adicolor Trefoil Hoodie', 'color': 'Pink', 'breadcrumbs': 'Women/Clothing', 'rid': 'dENnWUFNZWxyNDRmQVFBQUFBQUFBQT090'}),\n",
       " Document(page_content=\"Name: Small Crossbody Bag\\nColor: Orange\\nCategories: Women/Accessories\\nDescription: Only need the essentials? No problem. Throw them in this small crossbody bag, and you're ready to go. Head to and from your training session in true adidas style. Bright color guarantees you won't blend into the background. \\r\\n\\r\\nThis product is made with Primegreen, a series of high-performance recycled materials.\", metadata={'@search.score': 3.835175, 'name': 'Small Crossbody Bag', 'color': 'Orange', 'breadcrumbs': 'Women/Accessories', 'rid': 'dENnWUFNZWxyNDdSQWdBQUFBQUFBQT090'}),\n",
       " Document(page_content='Name: adidas Adicolor Trefoil Hoodie\\nColor: Red\\nCategories: Women/Clothing\\nDescription: Which color tells your story best? Rooted in our heritage of sport, Adicolor is iconic adidas style in a spectrum of shades. This hoodie puts the spotlight on the Trefoil logo. French terry fabric is everyday-level cozy.', metadata={'@search.score': 3.7543445, 'name': 'adidas Adicolor Trefoil Hoodie', 'color': 'Red', 'breadcrumbs': 'Women/Clothing', 'rid': 'dENnWUFNZWxyNDRiQVFBQUFBQUFBQT090'}),\n",
       " Document(page_content='Name: X9000L4 Shoes\\nColor: White\\nCategories: Women/Shoes\\nDescription: A few miles can be enough to reset your mind. These adidas running shoes keep you feeling good on short- to mid-distance runs. They ride on a full-length Boost midsole, which returns energy with every stride. The design draws inspiration from the virtual realm, with shocks of color and semi-translucent details that are reminiscent of a glowing screen. A glitched pattern on the outsole offers grippy traction on city streets.', metadata={'@search.score': 3.4984188, 'name': 'X9000L4 Shoes', 'color': 'White', 'breadcrumbs': 'Women/Shoes', 'rid': 'dENnWUFNZWxyNDYrQVFBQUFBQUFBQT090'}),\n",
       " Document(page_content=\"Name: adidas Sleek Shoes\\nColor: White\\nCategories: Women/Shoes\\nDescription: In collaboration with HER Studio London, these adidas Sleek Shoes keep things clean while adding a pop of color on the heel. Because it wouldn't be a collaboration with the women-led design studio if there wasn't a distinctive print. It's their signature, after all. Perforated 3-Stripes root the look in adidas heritage.\\r\\n\\r\\nThis product is made with Primegreen, a series of high-performance recycled materials. 50% of upper is recycled content. No virgin polyester.\", metadata={'@search.score': 3.3835897, 'name': 'adidas Sleek Shoes', 'color': 'White', 'breadcrumbs': 'Women/Shoes', 'rid': 'dENnWUFNZWxyNDYzQUFBQUFBQUFBQT090'}),\n",
       " Document(page_content='Name: adidas x Zoe Saldana Long Sleeve Tee\\nColor: Black\\nCategories: Women/Clothing\\nDescription: Your growth, your goals and the challenges you face along the way are all part of your journey. This adidas tee was created in collaboration with Zoe Saldana to inspire you to move with confidence, no matter where you are on your path. Smooth material lays softly on your body so you can feel comfortable in your own skin. A solid color offers styling versatility.\\r\\n\\r\\nThis product is made with recycled content as part of our ambition to end plastic waste.', metadata={'@search.score': 3.3323987, 'name': 'adidas x Zoe Saldana Long Sleeve Tee', 'color': 'Black', 'breadcrumbs': 'Women/Clothing', 'rid': 'dENnWUFNZWxyNDRsQXdBQUFBQUFBQT090'}),\n",
       " Document(page_content='Name: X9000L4 Shoes\\nColor: Black\\nCategories: Men/Shoes\\nDescription: A few miles can be enough to reset your mind. These adidas running shoes keep you feeling good on short- to mid-distance runs. They ride on a full-length Boost midsole, which returns energy with every stride. The design draws inspiration from the virtual realm, with shocks of color and semi-translucent details that are reminiscent of a glowing screen. A glitched pattern on the outsole offers grippy traction on city streets.', metadata={'@search.score': 3.254833, 'name': 'X9000L4 Shoes', 'color': 'Black', 'breadcrumbs': 'Men/Shoes', 'rid': 'dENnWUFNZWxyNDdOQUFBQUFBQUFBQT090'}),\n",
       " Document(page_content=\"Name: Choigo Shoes\\nColor: White\\nCategories: Women/Shoes\\nDescription: If you want drama, the bold female track and field crew of the '80s knew all about it. Their bright outfits were second only to their unmatched speed. These adidas Choigo Shoes pay tribute to those game changers. The distinctive sneakers make an impression with pops of Color, a lace toggle and a lifted outsole. And of course, performance spikes.\", metadata={'@search.score': 3.193073, 'name': 'Choigo Shoes', 'color': 'White', 'breadcrumbs': 'Women/Shoes', 'rid': 'dENnWUFNZWxyNDVLQXdBQUFBQUFBQT090'}),\n",
       " Document(page_content=\"Name: Marimekko Oversize Tee\\nColor: Black\\nCategories: Women/Clothing\\nDescription: Celebrate color. Celebrate you. Wrap up in a bright, bold print from Finnish design house Marimekko and dare to let your creative, colorful and absolutely unique voice shine. The loose cut and soft cotton of this adidas t-shirt keep you comfy while you're at it. \\r\\n\\r\\nBy buying cotton products from us, you're supporting more sustainable cotton farming.\", metadata={'@search.score': 3.1869345, 'name': 'Marimekko Oversize Tee', 'color': 'Black', 'breadcrumbs': 'Women/Clothing', 'rid': 'dENnWUFNZWxyNDY0QUFBQUFBQUFBQT090'}),\n",
       " Document(page_content='Name: Adilette Slides\\nColor: White\\nCategories: Women/Shoes\\nDescription: By the pool or on the street, slip into the legendary adidas slides that made sport sandals a style go-to. Soft color fades into a second color on the soft jelly bandage upper. The contoured footbed delivers the stability the Adilette is famous for.', metadata={'@search.score': 3.1551309, 'name': 'Adilette Slides', 'color': 'White', 'breadcrumbs': 'Women/Shoes', 'rid': 'dENnWUFNZWxyNDZYQUFBQUFBQUFBQT090'})]"
      ]
     },
     "execution_count": 88,
     "metadata": {},
     "output_type": "execute_result"
    }
   ],
   "source": [
    "result['source_documents']"
   ]
  },
  {
   "cell_type": "code",
   "execution_count": null,
   "id": "bd242a24",
   "metadata": {},
   "outputs": [],
   "source": []
  },
  {
   "cell_type": "code",
   "execution_count": 89,
   "id": "73cfd1df",
   "metadata": {},
   "outputs": [
    {
     "data": {
      "text/plain": [
       "{'query': 'necesito una camisa deportiva para hombre que me sirva para climas frios',\n",
       " 'result': 'Lo siento, no tengo algo que cumpla con tus requisitos.',\n",
       " 'source_documents': [Document(page_content=\"Name: adidas Love Unites All Me 3-Stripes Graphic Bra\\nColor: Black\\nCategories: Women/Clothing\\nDescription: Elevate love and celebrate Pride in this colorful adidas sports bra. It blends comfortable support with a sleek feel that's perfect for all your low-impact endeavors. Moisture-absorbing AEROREADY keeps you dry, while a mesh back panel adds ventilation. Removable pads let you customize the coverage and shape.\", metadata={'@search.score': 2.6048477, 'name': 'adidas Love Unites All Me 3-Stripes Graphic Bra', 'color': 'Black', 'breadcrumbs': 'Women/Clothing', 'rid': 'dENnWUFNZWxyNDViQWdBQUFBQUFBQT090'})]}"
      ]
     },
     "execution_count": 89,
     "metadata": {},
     "output_type": "execute_result"
    }
   ],
   "source": [
    "query = \"necesito una camisa deportiva para hombre que me sirva para climas frios\"\n",
    "result = qa({\"query\": query})\n",
    "result"
   ]
  },
  {
   "cell_type": "code",
   "execution_count": null,
   "id": "84e3e5a9",
   "metadata": {},
   "outputs": [],
   "source": []
  },
  {
   "cell_type": "code",
   "execution_count": 91,
   "id": "c24474bb",
   "metadata": {},
   "outputs": [
    {
     "data": {
      "text/plain": [
       "{'query': 'quiero una camisa polo para salir a la playa para hombre',\n",
       " 'result': 'Te recomiendo la camisa Mesh Broken-Stripe Polo Shirt en color azul. Es perfecta para salir a la playa ya que es cómoda y transpirable, además de estar hecha con materiales reciclados para reducir el desperdicio de plástico.',\n",
       " 'source_documents': [Document(page_content=\"Name: Mesh Broken-Stripe Polo Shirt\\nColor: Blue\\nCategories: Men/Clothing\\nDescription: Step up to the tee relaxed. This adidas golf polo shirt lets you focus on accurate drives and putts. Four-way stretch matches the body's natural movements. Breathable fabric keeps you comfortable spring, summer and fall. Recycled materials are one step towards reducing plastic waste.\", metadata={'@search.score': 7.207326, 'name': 'Mesh Broken-Stripe Polo Shirt', 'color': 'Blue', 'breadcrumbs': 'Men/Clothing', 'rid': 'dENnWUFNZWxyNDRGQUFBQUFBQUFBQT090'}),\n",
       "  Document(page_content='Name: Ultimate365 3-Stripes Polo Shirt\\nColor: White\\nCategories: Men/Clothing\\nDescription: Each shot in a round of golf requires your complete concentration. From the first drive to the final putt, swing confidently in distraction-free comfort in this golf polo. It combines year-round performance on the links with adidas sportswear style.', metadata={'@search.score': 6.2635584, 'name': 'Ultimate365 3-Stripes Polo Shirt', 'color': 'White', 'breadcrumbs': 'Men/Clothing', 'rid': 'dENnWUFNZWxyNDVGQVFBQUFBQUFBQT090'}),\n",
       "  Document(page_content='Name: Ultimate365 3-Stripes Polo Shirt\\nColor: Burgundy\\nCategories: Men/Clothing\\nDescription: Each shot in a round of golf requires your complete concentration. From the first drive to the final putt, swing confidently in distraction-free comfort in this golf polo. It combines year-round performance on the links with adidas sportswear style.', metadata={'@search.score': 6.2635584, 'name': 'Ultimate365 3-Stripes Polo Shirt', 'color': 'Burgundy', 'breadcrumbs': 'Men/Clothing', 'rid': 'dENnWUFNZWxyNDVMQVFBQUFBQUFBQT090'}),\n",
       "  Document(page_content='Name: Comfort Flip-Flops\\nColor: White\\nCategories: Women/Shoes\\nDescription: Enjoy sunny days in the sand or on the pool deck. These thong sandals pamper your feet with a plush, quick-drying footbed. A rugged outsole delivers durability while the contrasting 3-Stripes provide a sporty look.', metadata={'@search.score': 0.5151272, 'name': 'Comfort Flip-Flops', 'color': 'White', 'breadcrumbs': 'Women/Shoes', 'rid': 'dENnWUFNZWxyNDRYQVFBQUFBQUFBQT090'}),\n",
       "  Document(page_content='Name: Primegreen Essentials Warm-Up Slim 3-Stripes Track Jacket\\nColor: Blue\\nCategories: Women/Clothing\\nDescription: Dash out the door feeling ready for it all. This track jacket has a slim cut with raglan sleeves for a distraction-free feel while warming up or recovering later on. Side pockets keep a bus pass and music player within reach. \\r\\n\\r\\nThis product is made with Primegreen, a series of high-performance recycled materials.', metadata={'@search.score': 0.5116347, 'name': 'Primegreen Essentials Warm-Up Slim 3-Stripes Track Jacket', 'color': 'Blue', 'breadcrumbs': 'Women/Clothing', 'rid': 'dENnWUFNZWxyNDRqQUFBQUFBQUFBQT090'}),\n",
       "  Document(page_content='Name: Designed 2 Move Bootcut Pants (Plus Size)\\nColor: Black\\nCategories: Women/Clothing\\nDescription: All-day comfort is the name of the game with these adidas athletic pants that are cut slim with a wider, bootcut leg. Moisture-wicking AEROREADY with mesh panels provides added ventilation and comfort. A back pocket in the elastic waistband discreetly holds a gym card or keys.\\r\\n\\r\\nThis product is made with Primegreen, a series of high-performance recycled materials.', metadata={'@search.score': 0.5116347, 'name': 'Designed 2 Move Bootcut Pants (Plus Size)', 'color': 'Black', 'breadcrumbs': 'Women/Clothing', 'rid': 'dENnWUFNZWxyNDUwQWdBQUFBQUFBQT090'}),\n",
       "  Document(page_content=\"Name: ZX 1K Boost Shoes\\nColor: White\\nCategories: Kids/Shoes\\nDescription: Worthy of the ZX name, these juniors' adidas shoes put innovation on display. Inspired by cutting-edge ZX styles from the archive, this pair shows off a soft mesh upper mixed with synthetic suede. For a hit of modern tech, Boost and EVA combine to create a cushioned midsole that's ready to take on the future, one comfy step at a time.\", metadata={'@search.score': 0.49717453, 'name': 'ZX 1K Boost Shoes', 'color': 'White', 'breadcrumbs': 'Kids/Shoes', 'rid': 'dENnWUFNZWxyNDRaQWdBQUFBQUFBQT090'}),\n",
       "  Document(page_content='Name: Edge Lux 4 Shoes\\nColor: White\\nCategories: Women/Shoes\\nDescription: When running is your sport, you look forward to that moment all day. Be ready for it when you lace up in these adidas shoes. A snug fit gives you a comfortable and supportive feel. Lightweight Bounce cushioning keeps a spring in your step from beginning to end.\\r\\n\\r\\nThis product is made with Primegreen, a series of high-performance recycled materials. 50% of upper is recycled content. No virgin polyester.', metadata={'@search.score': 0.4853711, 'name': 'Edge Lux 4 Shoes', 'color': 'White', 'breadcrumbs': 'Women/Shoes', 'rid': 'dENnWUFNZWxyNDY0QWdBQUFBQUFBQT090'}),\n",
       "  Document(page_content=\"Name: AEROREADY  Designed to Move Sport Camo-Print Shorts\\nColor: Grey\\nCategories: Men/Clothing\\nDescription: Whether you're stepping onto the basketball court, going out for a run or relaxing at home, be ready for anything in these adidas shorts. Move through your day in confidence with a fit that stays in place. Feel dry and fresh even after a sweat session at the gym, thanks to moisture-absorbing AEROREADY.\\r\\n\\r\\nThis product is made with Primegreen, a series of high-performance recycled materials.\", metadata={'@search.score': 0.4853711, 'name': 'AEROREADY  Designed to Move Sport Camo-Print Shorts', 'color': 'Grey', 'breadcrumbs': 'Men/Clothing', 'rid': 'dENnWUFNZWxyNDdUQWdBQUFBQUFBQT090'}),\n",
       "  Document(page_content='Name: Ultraboost Slip-On DNA Shoes\\nColor: Black\\nCategories: Women/Shoes\\nDescription: Swift, light and even more effortless than before. These adidas Ultraboost running shoes have a slip-on design that gets you out the door fast and a soft upper that adapts to your foot for a barely-there feel. The Boost midsole returns energy endlessly as you rack up the miles and a flexible sole keeps your stride smooth over blacktop, dirt and slick surfaces. Whatever the distance, whatever the destination, enjoy the ride.\\r\\n\\r\\nThis product is made with Primeblue, a high-performance recycled material made in part with Parley Ocean Plastic. 50% of the upper is textile, 75% of the textile is Primeblue yarn. No virgin polyester.', metadata={'@search.score': 0.48124632, 'name': 'Ultraboost Slip-On DNA Shoes', 'color': 'Black', 'breadcrumbs': 'Women/Shoes', 'rid': 'dENnWUFNZWxyNDQwQWdBQUFBQUFBQT090'})]}"
      ]
     },
     "execution_count": 91,
     "metadata": {},
     "output_type": "execute_result"
    }
   ],
   "source": [
    "query = \"quiero una camisa polo para salir a la playa para hombre\"\n",
    "result = qa({\"query\": query})\n",
    "result"
   ]
  },
  {
   "cell_type": "code",
   "execution_count": null,
   "id": "0697051b",
   "metadata": {},
   "outputs": [],
   "source": []
  },
  {
   "cell_type": "code",
   "execution_count": null,
   "id": "80247a4a",
   "metadata": {},
   "outputs": [],
   "source": []
  }
 ],
 "metadata": {
  "kernelspec": {
   "display_name": "Python 3 (ipykernel)",
   "language": "python",
   "name": "python3"
  },
  "language_info": {
   "codemirror_mode": {
    "name": "ipython",
    "version": 3
   },
   "file_extension": ".py",
   "mimetype": "text/x-python",
   "name": "python",
   "nbconvert_exporter": "python",
   "pygments_lexer": "ipython3",
   "version": "3.10.12"
  }
 },
 "nbformat": 4,
 "nbformat_minor": 5
}
