{
 "cells": [
  {
   "cell_type": "code",
   "execution_count": 1,
   "id": "57ad03fa",
   "metadata": {},
   "outputs": [],
   "source": [
    "import os\n",
    "import pandas as pd\n",
    "import pyodbc\n",
    "import openai\n",
    "from langchain.chat_models import AzureChatOpenAI\n",
    "from langchain.agents import create_sql_agent\n",
    "from langchain.agents.agent_toolkits import SQLDatabaseToolkit\n",
    "from langchain.sql_database import SQLDatabase\n",
    "from langchain import SQLDatabaseChain\n",
    "from langchain.chains import SQLDatabaseSequentialChain\n",
    "from langchain.agents import AgentExecutor\n",
    "\n",
    "#from common.prompts import MSSQL_PROMPT, MSSQL_AGENT_PREFIX, MSSQL_AGENT_FORMAT_INSTRUCTIONS\n",
    "\n",
    "from IPython.display import Markdown, HTML, display  \n",
    "\n",
    "def printmd(string):\n",
    "    display(Markdown(string))\n",
    "    \n",
    "from langchain.prompts import PromptTemplate"
   ]
  },
  {
   "cell_type": "code",
   "execution_count": 2,
   "id": "8ea24c45",
   "metadata": {},
   "outputs": [],
   "source": [
    "#from common.prompts import MSSQL_PROMPT, MSSQL_AGENT_PREFIX, MSSQL_AGENT_FORMAT_INSTRUCTIONS"
   ]
  },
  {
   "cell_type": "code",
   "execution_count": 3,
   "id": "f06cd285",
   "metadata": {},
   "outputs": [],
   "source": [
    "api_type = \"azure\"\n",
    "api_base_url = \"https://openaidemonubiral.openai.azure.com/\"\n",
    "api_version = \"2023-03-15-preview\"\n",
    "azure_api_key = \"ff5c606c134e4d1dae3426a412df834a\"\n",
    "\n",
    "openai.api_type = api_type\n",
    "#openai.api_base = api_base_url\n",
    "openai.api_version = api_version\n",
    "#openai.api_key = azure_api_key\n",
    "\n",
    "os.environ[\"OPENAI_API_BASE\"] = api_base_url\n",
    "os.environ[\"OPENAI_API_KEY\"] = azure_api_key"
   ]
  },
  {
   "cell_type": "code",
   "execution_count": 4,
   "id": "476fc402",
   "metadata": {},
   "outputs": [],
   "source": [
    "BASE_URL = \"https://openaidemonubiral.openai.azure.com/\"\n",
    "API_KEY = \"ff5c606c134e4d1dae3426a412df834a\"\n",
    "DEPLOYMENT_NAME = \"nubiral-lab-01\"\n"
   ]
  },
  {
   "cell_type": "code",
   "execution_count": 5,
   "id": "c45207be",
   "metadata": {},
   "outputs": [],
   "source": [
    "#sudo -H pip install pyodbc"
   ]
  },
  {
   "cell_type": "code",
   "execution_count": 6,
   "id": "c3fbeb4d",
   "metadata": {},
   "outputs": [],
   "source": [
    "import pyodbc\n",
    "server = 'sql-serveropenai.database.windows.net'\n",
    "database = 'database-demo'\n",
    "username = 'admindemo'\n",
    "password = 'nubiral2023!'   \n",
    "driver= '{ODBC Driver 18 for SQL Server}'"
   ]
  },
  {
   "cell_type": "code",
   "execution_count": 7,
   "id": "85b491f1",
   "metadata": {},
   "outputs": [],
   "source": [
    "conn = pyodbc.connect('DRIVER='+driver+';SERVER=tcp:'+server+';PORT=1433;DATABASE='+database+';UID='+username+';PWD='+ password)\n",
    "cursor = conn.cursor()"
   ]
  },
  {
   "cell_type": "code",
   "execution_count": 8,
   "id": "48936727",
   "metadata": {},
   "outputs": [
    {
     "name": "stdout",
     "output_type": "stream",
     "text": [
      "('I102162', 'C274417', 'Female', 64, 'Food & Beverage', 3, 1569.0, 'Credit Card', datetime.date(2023, 12, 2), 'Metropol AVM')\n",
      "('I110730', 'C267745', 'Female', 28, 'Food & Beverage', 5, 2615.0, 'Cash', datetime.date(2023, 12, 2), 'Istinye Park')\n",
      "('I116593', 'C207927', 'Female', 27, 'Souvenir', 3, 3519.0, 'Debit Card', datetime.date(2023, 12, 2), 'Mall of Istanbul')\n",
      "('I123893', 'C604997', 'Female', 65, 'Clothing', 3, 90024.0, 'Cash', datetime.date(2023, 12, 2), 'Emaar Square Mall')\n",
      "('I124354', 'C260649', 'Male', 59, 'Clothing', 1, 30008.0, 'Cash', datetime.date(2023, 12, 2), 'Cevahir AVM')\n"
     ]
    }
   ],
   "source": [
    "cursor.execute(\"SELECT TOP 5 * FROM customer_shopping ORDER BY invoice_date DESC\") \n",
    "row = cursor.fetchone() \n",
    "while row:\n",
    "    print (row) \n",
    "    row = cursor.fetchone()"
   ]
  },
  {
   "cell_type": "code",
   "execution_count": null,
   "id": "b4b6061c",
   "metadata": {},
   "outputs": [],
   "source": []
  },
  {
   "cell_type": "code",
   "execution_count": 9,
   "id": "e0a5ffb1",
   "metadata": {},
   "outputs": [],
   "source": [
    "db_url = 'DRIVER='+driver+';SERVER=tcp:'+server+';PORT=1433;DATABASE='+database+';UID='+username+';PWD='+ password"
   ]
  },
  {
   "cell_type": "code",
   "execution_count": 10,
   "id": "2654ecc7",
   "metadata": {},
   "outputs": [],
   "source": [
    "from sqlalchemy import create_engine\n",
    "from sqlalchemy.engine.url import URL"
   ]
  },
  {
   "cell_type": "code",
   "execution_count": 11,
   "id": "7f051616",
   "metadata": {},
   "outputs": [],
   "source": [
    "db_config = {   'drivername': 'mssql+pyodbc',\n",
    "                'username': username +'@'+ server,\n",
    "                'password': password,\n",
    "                'host': server,\n",
    "                'port': 1433,\n",
    "                'database': database,\n",
    "                'query': {'driver': 'ODBC Driver 18 for SQL Server'}\n",
    "            }\n",
    "\n",
    "# Create a URL object for connecting to the database\n",
    "db_url = URL.create(**db_config)"
   ]
  },
  {
   "cell_type": "markdown",
   "id": "28dcabf0",
   "metadata": {},
   "source": [
    "## Query with LLM"
   ]
  },
  {
   "cell_type": "code",
   "execution_count": 12,
   "id": "76ad8d4d",
   "metadata": {},
   "outputs": [],
   "source": [
    "MSSQL_PROMPT = \"\"\"\n",
    "You are an MS SQL expert. Given an input question, first create a syntactically correct MS SQL query to run, then look at the results of the query and return the answer to the input question.\n",
    "\n",
    "Unless the user specifies in the question a specific number of examples to obtain, query for at most {top_k} results using the TOP clause as per MS SQL. You can order the results to return the most informative data in the database.\n",
    "\n",
    "Never query for all columns from a table. You must query only the columns that are needed to answer the question. Wrap each column name in square brackets ([]) to denote them as delimited identifiers.\n",
    "\n",
    "Pay attention to use only the column names you can see in the tables below. Be careful to not query for columns that do not exist. Also, pay attention to which column is in which table.\n",
    "\n",
    "**Do not use double quotes on the SQL query**. \n",
    "\n",
    "Your response should be in Markdown. Answer the question in spanish.\n",
    "\n",
    "** ALWAYS before giving the Final Answer, try another method**. Then reflect on the answers of the two methods you did and ask yourself if it answers correctly the original question. If you are not sure, try another method.\n",
    "If the runs does not give the same result, reflect and try again two more times until you have two runs that have the same result. If you still cannot arrive to a consistent result, say that you are not sure of the answer. But, if you are sure of the correct answer, create a beautiful and thorough response. DO NOT MAKE UP AN ANSWER OR USE PRIOR KNOWLEDGE, ONLY USE THE RESULTS OF THE CALCULATIONS YOU HAVE DONE. \n",
    "\n",
    "ALWAYS, as part of your final answer, explain how you got to the answer on a section that starts with: \\n\\nExplanation:\\n. Include the SQL query as part of the explanation section.\n",
    "\n",
    "Use the following format:\n",
    "\n",
    "Question: Question here\n",
    "SQLQuery: SQL Query to run\n",
    "SQLResult: Result of the SQLQuery\n",
    "Answer: Final answer here\n",
    "Explanation:\n",
    "\n",
    "For example:\n",
    "<=== Beginning of example\n",
    "\n",
    "Question: How many people died of covid in Texas in 2020?\n",
    "SQLQuery: SELECT [death] FROM covidtracking WHERE state = 'TX' AND date LIKE '2020%'\n",
    "SQLResult: [(27437.0,), (27088.0,), (26762.0,), (26521.0,), (26472.0,), (26421.0,), (26408.0,)]\n",
    "Answer: There were 27437 people who died of covid in Texas in 2020.\n",
    "\n",
    "\n",
    "Explanation:\n",
    "I queried the covidtracking table for the death column where the state is 'TX' and the date starts with '2020'. The query returned a list of tuples with the number of deaths for each day in 2020. To answer the question, I took the sum of all the deaths in the list, which is 27437. \n",
    "I used the following query\n",
    "\n",
    "```sql\n",
    "SELECT [death] FROM covidtracking WHERE state = 'TX' AND date LIKE '2020%'\"\n",
    "```\n",
    "===> End of Example\n",
    "\n",
    "Only use the following tables:\n",
    "{table_info}\n",
    "\n",
    "Question: {input}\"\"\"\n",
    "\n",
    "MSSQL_PROMPT = PromptTemplate(\n",
    "    input_variables=[\"input\", \"table_info\", \"top_k\"], \n",
    "    template=MSSQL_PROMPT\n",
    ")"
   ]
  },
  {
   "cell_type": "code",
   "execution_count": 13,
   "id": "e69352e9",
   "metadata": {},
   "outputs": [],
   "source": [
    "llm = AzureChatOpenAI(\n",
    "    openai_api_base=BASE_URL,\n",
    "    openai_api_version=\"2023-03-15-preview\",\n",
    "    deployment_name=DEPLOYMENT_NAME,\n",
    "    openai_api_key=API_KEY,\n",
    "    openai_api_type = \"azure\",\n",
    ")"
   ]
  },
  {
   "cell_type": "code",
   "execution_count": 14,
   "id": "c8b88620",
   "metadata": {},
   "outputs": [],
   "source": [
    "# Let's use a type of Chain made for this type of SQL work.  \n",
    "db = SQLDatabase.from_uri(db_url)"
   ]
  },
  {
   "cell_type": "code",
   "execution_count": 15,
   "id": "ecefbc90",
   "metadata": {},
   "outputs": [
    {
     "data": {
      "text/plain": [
       "<langchain.sql_database.SQLDatabase at 0x7f730cfda640>"
      ]
     },
     "execution_count": 15,
     "metadata": {},
     "output_type": "execute_result"
    }
   ],
   "source": [
    "db"
   ]
  },
  {
   "cell_type": "code",
   "execution_count": 16,
   "id": "8a050ab8",
   "metadata": {
    "scrolled": true
   },
   "outputs": [
    {
     "name": "stderr",
     "output_type": "stream",
     "text": [
      "/usr/local/lib/python3.9/site-packages/langchain/chains/sql_database/base.py:63: UserWarning: Directly instantiating an SQLDatabaseChain with an llm is deprecated. Please instantiate with llm_chain argument or using the from_llm class method.\n",
      "  warnings.warn(\n"
     ]
    }
   ],
   "source": [
    "db_chain = SQLDatabaseChain(llm=llm, database=db, prompt=MSSQL_PROMPT, verbose=True)"
   ]
  },
  {
   "cell_type": "code",
   "execution_count": 17,
   "id": "76e5fc3d",
   "metadata": {},
   "outputs": [],
   "source": [
    "# Let's check our prompt we created in app/prompts.py\n",
    "#print(db_chain.prompt.template)"
   ]
  },
  {
   "cell_type": "code",
   "execution_count": 18,
   "id": "959b24cb",
   "metadata": {},
   "outputs": [],
   "source": [
    "# Natural Language question\n",
    "query_str = 'muestra la fila de la facturacion I333191'"
   ]
  },
  {
   "cell_type": "code",
   "execution_count": null,
   "id": "c5a16267",
   "metadata": {
    "scrolled": true
   },
   "outputs": [
    {
     "name": "stdout",
     "output_type": "stream",
     "text": [
      "\n",
      "\n",
      "\u001b[1m> Entering new SQLDatabaseChain chain...\u001b[0m\n",
      "muestra la fila de la facturacion I333191\n",
      "SQLQuery:\u001b[32;1m\u001b[1;3mSELECT * FROM customer_shopping WHERE invoice_no = 'I333191'\u001b[0m\n",
      "SQLResult: \u001b[33;1m\u001b[1;3m[('I333191', 'C206577', 'Male', 61, 'Toys', 4, 14336.0, 'Cash', datetime.date(2022, 9, 9), 'Metrocity')]\u001b[0m\n",
      "Answer:"
     ]
    }
   ],
   "source": [
    "printmd(db_chain(query_str)['result'])"
   ]
  },
  {
   "cell_type": "code",
   "execution_count": 21,
   "id": "b88af06b",
   "metadata": {},
   "outputs": [
    {
     "name": "stdout",
     "output_type": "stream",
     "text": [
      "\n",
      "\n",
      "\u001b[1m> Entering new SQLDatabaseChain chain...\u001b[0m\n",
      "cuantos clientes compraron desde \"2022-01-01\" y \"2023-01-01\" incluyendo esas fechas?\n",
      "SQLQuery:\u001b[32;1m\u001b[1;3mSELECT COUNT(DISTINCT customer_id) FROM customer_shopping WHERE invoice_date BETWEEN '2022-01-01' AND '2023-01-01'\u001b[0m\n",
      "SQLResult: \u001b[33;1m\u001b[1;3m[(45696,)]\u001b[0m\n",
      "Answer:\u001b[32;1m\u001b[1;3m45696 clientes compraron desde \"2022-01-01\" y \"2023-01-01\" incluyendo esas fechas.\n",
      "\n",
      "Explanation:\n",
      "Para responder esta pregunta utilicé la tabla customer_shopping. La consulta SQL que realicé es la siguiente:\n",
      "\n",
      "```sql\n",
      "SELECT COUNT(DISTINCT customer_id) FROM customer_shopping WHERE invoice_date BETWEEN '2022-01-01' AND '2023-01-01'\n",
      "```\n",
      "\n",
      "Esta consulta cuenta el número de clientes distintos que realizaron compras entre el 1 de enero de 2022 y el 1 de enero de 2023, ambas fechas incluidas. La función COUNT se utiliza para contar el número de filas devueltas por la consulta, y la cláusula DISTINCT se utiliza para contar cada cliente sólo una vez, aunque haya realizado múltiples compras dentro del período especificado. La consulta devuelve una sola fila con el número de clientes encontrados (45696).\u001b[0m\n",
      "\u001b[1m> Finished chain.\u001b[0m\n"
     ]
    },
    {
     "data": {
      "text/markdown": [
       "5"
      ],
      "text/plain": [
       "<IPython.core.display.Markdown object>"
      ]
     },
     "metadata": {},
     "output_type": "display_data"
    }
   ],
   "source": [
    "printmd(db_chain(query_str)['result'][1][0])"
   ]
  },
  {
   "cell_type": "code",
   "execution_count": null,
   "id": "696d09c8",
   "metadata": {},
   "outputs": [],
   "source": []
  },
  {
   "cell_type": "code",
   "execution_count": null,
   "id": "c31b35e9",
   "metadata": {},
   "outputs": [],
   "source": []
  },
  {
   "cell_type": "code",
   "execution_count": null,
   "id": "09f3226f",
   "metadata": {},
   "outputs": [],
   "source": []
  },
  {
   "cell_type": "code",
   "execution_count": null,
   "id": "67929986",
   "metadata": {},
   "outputs": [],
   "source": []
  },
  {
   "cell_type": "code",
   "execution_count": null,
   "id": "f2046ac3",
   "metadata": {},
   "outputs": [],
   "source": []
  },
  {
   "cell_type": "code",
   "execution_count": null,
   "id": "0e90897a",
   "metadata": {},
   "outputs": [],
   "source": []
  },
  {
   "cell_type": "code",
   "execution_count": null,
   "id": "3879987a",
   "metadata": {},
   "outputs": [],
   "source": []
  },
  {
   "cell_type": "code",
   "execution_count": null,
   "id": "359e5069",
   "metadata": {},
   "outputs": [],
   "source": []
  },
  {
   "cell_type": "code",
   "execution_count": null,
   "id": "c580cbe5",
   "metadata": {},
   "outputs": [],
   "source": []
  },
  {
   "cell_type": "code",
   "execution_count": null,
   "id": "01bef785",
   "metadata": {},
   "outputs": [],
   "source": []
  },
  {
   "cell_type": "code",
   "execution_count": null,
   "id": "99ad1ff6",
   "metadata": {},
   "outputs": [],
   "source": []
  },
  {
   "cell_type": "code",
   "execution_count": null,
   "id": "297173ba",
   "metadata": {},
   "outputs": [],
   "source": []
  },
  {
   "cell_type": "code",
   "execution_count": null,
   "id": "d8ba8861",
   "metadata": {},
   "outputs": [],
   "source": []
  },
  {
   "cell_type": "code",
   "execution_count": null,
   "id": "4f9139e0",
   "metadata": {},
   "outputs": [],
   "source": []
  },
  {
   "cell_type": "code",
   "execution_count": null,
   "id": "9fcee036",
   "metadata": {},
   "outputs": [],
   "source": []
  },
  {
   "cell_type": "code",
   "execution_count": null,
   "id": "7c14a24b",
   "metadata": {},
   "outputs": [],
   "source": []
  },
  {
   "cell_type": "code",
   "execution_count": null,
   "id": "224e63d0",
   "metadata": {},
   "outputs": [],
   "source": []
  },
  {
   "cell_type": "code",
   "execution_count": null,
   "id": "b36e2c5c",
   "metadata": {},
   "outputs": [],
   "source": []
  },
  {
   "cell_type": "code",
   "execution_count": null,
   "id": "b4e7822a",
   "metadata": {},
   "outputs": [],
   "source": []
  },
  {
   "cell_type": "code",
   "execution_count": null,
   "id": "a274f85d",
   "metadata": {},
   "outputs": [],
   "source": []
  },
  {
   "cell_type": "code",
   "execution_count": null,
   "id": "e7d30d35",
   "metadata": {},
   "outputs": [],
   "source": []
  },
  {
   "cell_type": "code",
   "execution_count": null,
   "id": "6c5a715f",
   "metadata": {},
   "outputs": [],
   "source": []
  },
  {
   "cell_type": "code",
   "execution_count": null,
   "id": "983b4c8e",
   "metadata": {},
   "outputs": [],
   "source": []
  },
  {
   "cell_type": "code",
   "execution_count": null,
   "id": "dc613e09",
   "metadata": {},
   "outputs": [],
   "source": []
  }
 ],
 "metadata": {
  "kernelspec": {
   "display_name": "Python 3 (ipykernel)",
   "language": "python",
   "name": "python3"
  },
  "language_info": {
   "codemirror_mode": {
    "name": "ipython",
    "version": 3
   },
   "file_extension": ".py",
   "mimetype": "text/x-python",
   "name": "python",
   "nbconvert_exporter": "python",
   "pygments_lexer": "ipython3",
   "version": "3.10.9"
  }
 },
 "nbformat": 4,
 "nbformat_minor": 5
}
